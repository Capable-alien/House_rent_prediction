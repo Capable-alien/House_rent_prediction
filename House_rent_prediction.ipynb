{
  "nbformat": 4,
  "nbformat_minor": 0,
  "metadata": {
    "colab": {
      "provenance": []
    },
    "kernelspec": {
      "name": "python3",
      "display_name": "Python 3"
    },
    "language_info": {
      "name": "python"
    }
  },
  "cells": [
    {
      "cell_type": "markdown",
      "source": [
        "Import Libraries"
      ],
      "metadata": {
        "id": "mkd_M06Bd_DF"
      }
    },
    {
      "cell_type": "code",
      "execution_count": 137,
      "metadata": {
        "id": "EizQ0A48d0H5"
      },
      "outputs": [],
      "source": [
        "import pandas as pd\n",
        "import numpy as np\n",
        "import matplotlib.pyplot as plt\n",
        "import seaborn as sns\n",
        "from sklearn.model_selection import train_test_split\n",
        "from sklearn.linear_model import LinearRegression\n",
        "from sklearn.ensemble import RandomForestRegressor\n",
        "from sklearn.metrics import mean_squared_error, mean_absolute_error, r2_score\n",
        "from sklearn.preprocessing import LabelEncoder"
      ]
    },
    {
      "cell_type": "markdown",
      "source": [
        "Load the Dataset"
      ],
      "metadata": {
        "id": "_VHv3Kz5eCWX"
      }
    },
    {
      "cell_type": "code",
      "source": [
        "df = pd.read_csv('/content/House_Rent_Dataset.csv')"
      ],
      "metadata": {
        "id": "sq1GMYOud8tU"
      },
      "execution_count": 138,
      "outputs": []
    },
    {
      "cell_type": "markdown",
      "source": [
        "Data Exploration"
      ],
      "metadata": {
        "id": "s5hB4au_eMaD"
      }
    },
    {
      "cell_type": "code",
      "source": [
        "# Display the first few rows of the dataset\n",
        "print(df.head(5))"
      ],
      "metadata": {
        "colab": {
          "base_uri": "https://localhost:8080/"
        },
        "id": "oEFGx63oeLpx",
        "outputId": "85ea677b-242f-4ee1-b7de-379daa2ded00"
      },
      "execution_count": 139,
      "outputs": [
        {
          "output_type": "stream",
          "name": "stdout",
          "text": [
            "    Posted On  BHK   Rent  Size            Floor    Area Type  \\\n",
            "0  2022-05-18    2  10000  1100  Ground out of 2   Super Area   \n",
            "1  2022-05-13    2  20000   800       1 out of 3   Super Area   \n",
            "2  2022-05-16    2  17000  1000       1 out of 3   Super Area   \n",
            "3  2022-07-04    2  10000   800       1 out of 2   Super Area   \n",
            "4  2022-05-09    2   7500   850       1 out of 2  Carpet Area   \n",
            "\n",
            "              Area Locality     City Furnishing Status  Tenant Preferred  \\\n",
            "0                    Bandel  Kolkata       Unfurnished  Bachelors/Family   \n",
            "1  Phool Bagan, Kankurgachi  Kolkata    Semi-Furnished  Bachelors/Family   \n",
            "2   Salt Lake City Sector 2  Kolkata    Semi-Furnished  Bachelors/Family   \n",
            "3               Dumdum Park  Kolkata       Unfurnished  Bachelors/Family   \n",
            "4             South Dum Dum  Kolkata       Unfurnished         Bachelors   \n",
            "\n",
            "   Bathroom Point of Contact  \n",
            "0         2    Contact Owner  \n",
            "1         1    Contact Owner  \n",
            "2         1    Contact Owner  \n",
            "3         1    Contact Owner  \n",
            "4         1    Contact Owner  \n"
          ]
        }
      ]
    },
    {
      "cell_type": "code",
      "source": [
        "# Check for missing values\n",
        "print(df.isnull().sum())"
      ],
      "metadata": {
        "colab": {
          "base_uri": "https://localhost:8080/"
        },
        "id": "bMm7Hue-t2Jo",
        "outputId": "b0de62ab-cded-4831-9a48-400965bb2488"
      },
      "execution_count": 140,
      "outputs": [
        {
          "output_type": "stream",
          "name": "stdout",
          "text": [
            "Posted On            0\n",
            "BHK                  0\n",
            "Rent                 0\n",
            "Size                 0\n",
            "Floor                0\n",
            "Area Type            0\n",
            "Area Locality        0\n",
            "City                 0\n",
            "Furnishing Status    0\n",
            "Tenant Preferred     0\n",
            "Bathroom             0\n",
            "Point of Contact     0\n",
            "dtype: int64\n"
          ]
        }
      ]
    },
    {
      "cell_type": "code",
      "source": [
        "# Summary statistics\n",
        "print(df.describe())"
      ],
      "metadata": {
        "id": "bhr-Bwz-t8dz",
        "colab": {
          "base_uri": "https://localhost:8080/"
        },
        "outputId": "f92bf5f2-5e8b-44ac-d7b9-bc7c7128092b"
      },
      "execution_count": 141,
      "outputs": [
        {
          "output_type": "stream",
          "name": "stdout",
          "text": [
            "               BHK          Rent         Size     Bathroom\n",
            "count  4746.000000  4.746000e+03  4746.000000  4746.000000\n",
            "mean      2.083860  3.499345e+04   967.490729     1.965866\n",
            "std       0.832256  7.810641e+04   634.202328     0.884532\n",
            "min       1.000000  1.200000e+03    10.000000     1.000000\n",
            "25%       2.000000  1.000000e+04   550.000000     1.000000\n",
            "50%       2.000000  1.600000e+04   850.000000     2.000000\n",
            "75%       3.000000  3.300000e+04  1200.000000     2.000000\n",
            "max       6.000000  3.500000e+06  8000.000000    10.000000\n"
          ]
        }
      ]
    },
    {
      "cell_type": "code",
      "source": [
        "# Data types of columns\n",
        "print(df.dtypes)"
      ],
      "metadata": {
        "colab": {
          "base_uri": "https://localhost:8080/"
        },
        "id": "vrLFZzmCeYO-",
        "outputId": "aeaa9f44-3225-4b21-c8ee-b38e87e74175"
      },
      "execution_count": 142,
      "outputs": [
        {
          "output_type": "stream",
          "name": "stdout",
          "text": [
            "Posted On            object\n",
            "BHK                   int64\n",
            "Rent                  int64\n",
            "Size                  int64\n",
            "Floor                object\n",
            "Area Type            object\n",
            "Area Locality        object\n",
            "City                 object\n",
            "Furnishing Status    object\n",
            "Tenant Preferred     object\n",
            "Bathroom              int64\n",
            "Point of Contact     object\n",
            "dtype: object\n"
          ]
        }
      ]
    },
    {
      "cell_type": "markdown",
      "source": [
        "Data Preprocessing"
      ],
      "metadata": {
        "id": "W-h_5SfrezZ-"
      }
    },
    {
      "cell_type": "code",
      "source": [
        "# Encode categorical variables\n",
        "label_encoder = LabelEncoder()\n",
        "df['Area Type'] = label_encoder.fit_transform(df['Area Type'])\n",
        "df['Area Locality'] = label_encoder.fit_transform(df['Area Locality'])\n",
        "df['City'] = label_encoder.fit_transform(df['City'])\n",
        "df['Furnishing Status'] = label_encoder.fit_transform(df['Furnishing Status'])\n",
        "df['Tenant Preferred'] = label_encoder.fit_transform(df['Tenant Preferred'])\n",
        "df['Point of Contact'] = label_encoder.fit_transform(df['Point of Contact'])"
      ],
      "metadata": {
        "id": "vULls3aie1UT"
      },
      "execution_count": 143,
      "outputs": []
    },
    {
      "cell_type": "markdown",
      "source": [
        "Feature Selection"
      ],
      "metadata": {
        "id": "RNlgGpqoHfrl"
      }
    },
    {
      "cell_type": "code",
      "source": [
        "# Select features (predictors) and target variable\n",
        "selected_features = ['BHK', 'Size', 'Area Type', 'Area Locality', 'City', 'Furnishing Status', 'Tenant Preferred', 'Bathroom']\n",
        "X = df[selected_features]\n",
        "y = df['Rent']"
      ],
      "metadata": {
        "id": "jk0P9lEjpYK9"
      },
      "execution_count": 144,
      "outputs": []
    },
    {
      "cell_type": "markdown",
      "source": [
        "Model Selection"
      ],
      "metadata": {
        "id": "-BBpqT3-nZLw"
      }
    },
    {
      "cell_type": "code",
      "source": [
        "# Initialize models\n",
        "lr_model = LinearRegression()\n",
        "rf_model = RandomForestRegressor()"
      ],
      "metadata": {
        "id": "rOq0loeQuOfn"
      },
      "execution_count": 145,
      "outputs": []
    },
    {
      "cell_type": "markdown",
      "source": [
        "Model Training"
      ],
      "metadata": {
        "id": "Znesvf8JH1Ii"
      }
    },
    {
      "cell_type": "code",
      "source": [
        "# Split the data into training and testing sets\n",
        "X_train, X_test, y_train, y_test = train_test_split(X, y, test_size=0.2, random_state=42)\n",
        "\n",
        "# Train the models\n",
        "lr_model.fit(X_train, y_train)\n",
        "rf_model.fit(X_train, y_train)"
      ],
      "metadata": {
        "colab": {
          "base_uri": "https://localhost:8080/",
          "height": 74
        },
        "id": "B0LPEUIBA1bS",
        "outputId": "0c50c5cd-ff7f-4070-b09b-519c7f618582"
      },
      "execution_count": 146,
      "outputs": [
        {
          "output_type": "execute_result",
          "data": {
            "text/plain": [
              "RandomForestRegressor()"
            ],
            "text/html": [
              "<style>#sk-container-id-1 {color: black;background-color: white;}#sk-container-id-1 pre{padding: 0;}#sk-container-id-1 div.sk-toggleable {background-color: white;}#sk-container-id-1 label.sk-toggleable__label {cursor: pointer;display: block;width: 100%;margin-bottom: 0;padding: 0.3em;box-sizing: border-box;text-align: center;}#sk-container-id-1 label.sk-toggleable__label-arrow:before {content: \"▸\";float: left;margin-right: 0.25em;color: #696969;}#sk-container-id-1 label.sk-toggleable__label-arrow:hover:before {color: black;}#sk-container-id-1 div.sk-estimator:hover label.sk-toggleable__label-arrow:before {color: black;}#sk-container-id-1 div.sk-toggleable__content {max-height: 0;max-width: 0;overflow: hidden;text-align: left;background-color: #f0f8ff;}#sk-container-id-1 div.sk-toggleable__content pre {margin: 0.2em;color: black;border-radius: 0.25em;background-color: #f0f8ff;}#sk-container-id-1 input.sk-toggleable__control:checked~div.sk-toggleable__content {max-height: 200px;max-width: 100%;overflow: auto;}#sk-container-id-1 input.sk-toggleable__control:checked~label.sk-toggleable__label-arrow:before {content: \"▾\";}#sk-container-id-1 div.sk-estimator input.sk-toggleable__control:checked~label.sk-toggleable__label {background-color: #d4ebff;}#sk-container-id-1 div.sk-label input.sk-toggleable__control:checked~label.sk-toggleable__label {background-color: #d4ebff;}#sk-container-id-1 input.sk-hidden--visually {border: 0;clip: rect(1px 1px 1px 1px);clip: rect(1px, 1px, 1px, 1px);height: 1px;margin: -1px;overflow: hidden;padding: 0;position: absolute;width: 1px;}#sk-container-id-1 div.sk-estimator {font-family: monospace;background-color: #f0f8ff;border: 1px dotted black;border-radius: 0.25em;box-sizing: border-box;margin-bottom: 0.5em;}#sk-container-id-1 div.sk-estimator:hover {background-color: #d4ebff;}#sk-container-id-1 div.sk-parallel-item::after {content: \"\";width: 100%;border-bottom: 1px solid gray;flex-grow: 1;}#sk-container-id-1 div.sk-label:hover label.sk-toggleable__label {background-color: #d4ebff;}#sk-container-id-1 div.sk-serial::before {content: \"\";position: absolute;border-left: 1px solid gray;box-sizing: border-box;top: 0;bottom: 0;left: 50%;z-index: 0;}#sk-container-id-1 div.sk-serial {display: flex;flex-direction: column;align-items: center;background-color: white;padding-right: 0.2em;padding-left: 0.2em;position: relative;}#sk-container-id-1 div.sk-item {position: relative;z-index: 1;}#sk-container-id-1 div.sk-parallel {display: flex;align-items: stretch;justify-content: center;background-color: white;position: relative;}#sk-container-id-1 div.sk-item::before, #sk-container-id-1 div.sk-parallel-item::before {content: \"\";position: absolute;border-left: 1px solid gray;box-sizing: border-box;top: 0;bottom: 0;left: 50%;z-index: -1;}#sk-container-id-1 div.sk-parallel-item {display: flex;flex-direction: column;z-index: 1;position: relative;background-color: white;}#sk-container-id-1 div.sk-parallel-item:first-child::after {align-self: flex-end;width: 50%;}#sk-container-id-1 div.sk-parallel-item:last-child::after {align-self: flex-start;width: 50%;}#sk-container-id-1 div.sk-parallel-item:only-child::after {width: 0;}#sk-container-id-1 div.sk-dashed-wrapped {border: 1px dashed gray;margin: 0 0.4em 0.5em 0.4em;box-sizing: border-box;padding-bottom: 0.4em;background-color: white;}#sk-container-id-1 div.sk-label label {font-family: monospace;font-weight: bold;display: inline-block;line-height: 1.2em;}#sk-container-id-1 div.sk-label-container {text-align: center;}#sk-container-id-1 div.sk-container {/* jupyter's `normalize.less` sets `[hidden] { display: none; }` but bootstrap.min.css set `[hidden] { display: none !important; }` so we also need the `!important` here to be able to override the default hidden behavior on the sphinx rendered scikit-learn.org. See: https://github.com/scikit-learn/scikit-learn/issues/21755 */display: inline-block !important;position: relative;}#sk-container-id-1 div.sk-text-repr-fallback {display: none;}</style><div id=\"sk-container-id-1\" class=\"sk-top-container\"><div class=\"sk-text-repr-fallback\"><pre>RandomForestRegressor()</pre><b>In a Jupyter environment, please rerun this cell to show the HTML representation or trust the notebook. <br />On GitHub, the HTML representation is unable to render, please try loading this page with nbviewer.org.</b></div><div class=\"sk-container\" hidden><div class=\"sk-item\"><div class=\"sk-estimator sk-toggleable\"><input class=\"sk-toggleable__control sk-hidden--visually\" id=\"sk-estimator-id-1\" type=\"checkbox\" checked><label for=\"sk-estimator-id-1\" class=\"sk-toggleable__label sk-toggleable__label-arrow\">RandomForestRegressor</label><div class=\"sk-toggleable__content\"><pre>RandomForestRegressor()</pre></div></div></div></div></div>"
            ]
          },
          "metadata": {},
          "execution_count": 146
        }
      ]
    },
    {
      "cell_type": "markdown",
      "source": [
        "Model Evaluation"
      ],
      "metadata": {
        "id": "vhWWSLJcIAF5"
      }
    },
    {
      "cell_type": "code",
      "source": [
        "# Make predictions\n",
        "lr_predictions = lr_model.predict(X_test)\n",
        "rf_predictions = rf_model.predict(X_test)\n",
        "\n",
        "# Evaluate the models\n",
        "lr_rmse = mean_squared_error(y_test, lr_predictions, squared=False)\n",
        "rf_rmse = mean_squared_error(y_test, rf_predictions, squared=False)\n",
        "\n",
        "lr_mae = mean_absolute_error(y_test, lr_predictions)\n",
        "rf_mae = mean_absolute_error(y_test, rf_predictions)\n",
        "\n",
        "lr_r2 = r2_score(y_test, lr_predictions)\n",
        "rf_r2 = r2_score(y_test, rf_predictions)\n",
        "\n",
        "print(\"Linear Regression Model:\")\n",
        "print(\"RMSE:\", lr_rmse)\n",
        "print(\"MAE:\", lr_mae)\n",
        "print(\"R^2 Score:\", lr_r2)\n",
        "\n",
        "print(\"\\nRandom Forest Regression Model:\")\n",
        "print(\"RMSE:\", rf_rmse)\n",
        "print(\"MAE:\", rf_mae)\n",
        "print(\"R^2 Score:\", rf_r2)"
      ],
      "metadata": {
        "colab": {
          "base_uri": "https://localhost:8080/"
        },
        "id": "vlXzYka4A2EU",
        "outputId": "66842c0f-aef7-47da-a559-dff897ba2394"
      },
      "execution_count": 147,
      "outputs": [
        {
          "output_type": "stream",
          "name": "stdout",
          "text": [
            "Linear Regression Model:\n",
            "RMSE: 47213.32681019883\n",
            "MAE: 24410.64757814495\n",
            "R^2 Score: 0.44068131727286575\n",
            "\n",
            "Random Forest Regression Model:\n",
            "RMSE: 47417.68191934265\n",
            "MAE: 13776.565428601807\n",
            "R^2 Score: 0.4358290011258549\n"
          ]
        }
      ]
    },
    {
      "cell_type": "markdown",
      "source": [
        "Prediction"
      ],
      "metadata": {
        "id": "qGM7WbvLIf6Q"
      }
    },
    {
      "cell_type": "code",
      "source": [
        "# Predict house rent prices using the trained models\n",
        "lr_rent_predictions = lr_model.predict(X_test)\n",
        "rf_rent_predictions = rf_model.predict(X_test)\n",
        "\n",
        "print(lr_rent_predictions)\n",
        "print(rf_rent_predictions)"
      ],
      "metadata": {
        "colab": {
          "base_uri": "https://localhost:8080/"
        },
        "id": "bwNukfv7A4ul",
        "outputId": "153a93a0-eb61-4eba-94ba-93503bb02267"
      },
      "execution_count": 149,
      "outputs": [
        {
          "output_type": "stream",
          "name": "stdout",
          "text": [
            "[ 8.93814718e+03  2.06685352e+04  5.26843688e+04  7.08912025e+04\n",
            "  1.35783284e+05  5.15918956e+04  6.41801090e+04  2.96612474e+03\n",
            "  1.53818345e+05  9.49855691e+03 -9.12655133e+03  2.63697392e+04\n",
            "  3.21926302e+04 -2.78095380e+03  5.24450886e+04  1.61424393e+04\n",
            "  1.18995786e+05  2.33157201e+03  3.28058883e+04  7.88575885e+04\n",
            "  3.63789811e+04  8.42316002e+03  3.76875588e+04  4.38370005e+04\n",
            "  1.41615295e+05  2.26361995e+04 -2.06698338e+04  5.94116797e+04\n",
            " -2.61320484e+04 -1.41400001e+04 -3.14937484e+04 -1.32923296e+04\n",
            "  3.82814737e+04  3.08715950e+04  5.29440286e+04  4.46860522e+04\n",
            "  2.23296995e+04 -5.12800359e+03  1.20419088e+04  9.39225021e+03\n",
            "  1.98931686e+04  1.73026583e+05  2.31715483e+04 -2.69577978e+04\n",
            "  5.06430199e+04  2.89495115e+04  5.18311084e+04  8.99343508e+04\n",
            "  1.80417742e+05  2.47466346e+04  1.98433141e+04  9.27111231e+04\n",
            "  2.45499978e+04  4.17441466e+04  3.72560656e+04  1.23594375e+05\n",
            "  6.23283021e+04  5.03418899e+04 -9.34484488e+03  9.16703220e+03\n",
            " -5.49729104e+03 -2.16650894e+04  5.89260334e+04  8.99922675e+03\n",
            "  7.04579506e+04  1.45050921e+04  2.11872991e+04  6.91384575e+04\n",
            "  5.76711628e+04  1.69261366e+04  1.44082619e+04  4.24707090e+04\n",
            "  4.83368941e+04  7.19655595e+03  3.30876475e+04  6.66012634e+04\n",
            "  2.30845417e+04  9.54335653e+04  6.61843649e+04  2.56192905e+04\n",
            "  1.92706193e+04 -1.17047498e+04  2.14511405e+04 -8.19729873e+03\n",
            "  4.94978475e+04  8.81979328e+04  7.66168752e+04  5.78397212e+04\n",
            "  7.56390505e+03  1.85332558e+04  1.31041045e+05  8.74008983e+04\n",
            "  1.98439497e+04  1.54882200e+05  3.34372483e+04  5.13937084e+04\n",
            "  1.10050663e+04  7.09871727e+03  6.44529771e+04  5.44735946e+04\n",
            "  3.13952240e+04  4.51592551e+03  5.94664162e+04  3.44000564e+04\n",
            "  1.49367783e+04 -1.86521503e+04 -3.27418245e+03 -7.00957616e+03\n",
            " -2.61139999e+03 -1.98365180e+04 -6.58929952e+03  1.09121421e+05\n",
            "  1.47947777e+05  2.93134519e+04  1.11612528e+05  1.10979887e+05\n",
            "  4.08002542e+04  1.90395453e+04 -1.18367944e+04  2.76071642e+04\n",
            " -1.43504388e+04  4.30550263e+03  1.18807923e+05  2.46312006e+04\n",
            " -1.67813544e+04  1.89235752e+04  4.67893309e+04  1.17502597e+05\n",
            " -1.07017838e+04  7.52257001e+04  1.87078585e+04  9.64104826e+04\n",
            "  4.31274403e+04  5.16969962e+04  2.33613717e+04  4.03972121e+04\n",
            "  4.44586089e+04  4.09976870e+04  4.68754375e+04 -2.02108781e+04\n",
            " -1.34261780e+04 -2.50721711e+03  2.24567475e+04  4.92743754e+04\n",
            " -5.19673709e+03  2.10350278e+04 -2.76164572e+04 -5.29536226e+03\n",
            " -1.00105583e+04  7.67256103e+04  2.25313387e+04  6.68682165e+04\n",
            "  4.56651103e+04  1.93662266e+03  1.03479751e+03  4.68786530e+04\n",
            "  6.16592382e+04  2.60916548e+04  4.56927445e+01  4.38673957e+04\n",
            "  4.65507312e+04  9.83794179e+04 -3.08366844e+04  1.61223650e+04\n",
            "  7.22331043e+04  1.65933102e+04  4.64685036e+04  4.53921009e+04\n",
            " -1.57427257e+04  9.14289208e+04  2.45168149e+03  2.36760288e+04\n",
            "  5.38139098e+04  1.76679852e+04  7.84529751e+04  1.67282034e+03\n",
            "  7.14243254e+03  1.09100206e+03  6.29595969e+04  9.97454292e+03\n",
            "  3.55383053e+03  3.01845908e+04  4.17163534e+04  7.95662309e+04\n",
            "  8.25288099e+04 -2.41800469e+04  3.25449817e+04  1.72713748e+01\n",
            "  5.01889449e+04  1.79391723e+03  8.00125797e+04  2.56687865e+04\n",
            " -1.10157458e+04  1.74579820e+04  4.07840437e+04  3.52330815e+04\n",
            "  7.53126949e+03  6.26079997e+03  8.18600716e+04  4.31608058e+04\n",
            "  8.10702569e+04  2.23695527e+04 -6.68892425e+03  5.78246794e+04\n",
            "  8.33215099e+04  2.93008519e+03  1.95702816e+04 -1.79059532e+04\n",
            "  3.42743036e+04  1.79322637e+03 -5.62035718e+03 -9.60174194e+02\n",
            "  2.28936303e+04  5.83856332e+04 -8.83428437e+03  2.00608930e+04\n",
            " -1.79389998e+04 -1.36125293e+04  5.63136332e+04  5.18257730e+04\n",
            "  3.65995675e+04  4.26350036e+04  6.61628223e+04  6.08872111e+04\n",
            "  3.03298540e+04  4.91624367e+04  2.63085879e+04  1.31917615e+04\n",
            "  1.98401422e+04  3.42658911e+04  3.61510207e+04  9.49851505e+03\n",
            "  9.30504151e+04  2.43388092e+04  1.97914827e+04 -3.09693851e+04\n",
            " -1.60450768e+04  1.96128022e+04  9.00232784e+03  3.89974440e+04\n",
            "  7.74477365e+04  1.78828843e+04  2.83928431e+04  2.24332262e+04\n",
            "  8.30740447e+04  2.07718536e+04  3.64937618e+04  3.03552195e+04\n",
            "  4.44914382e+04  4.85358183e+04  2.25676192e+03  3.41525192e+04\n",
            "  8.51577725e+04  1.65009184e+04  3.33264127e+04 -1.67617235e+04\n",
            "  3.05317790e+04  8.46446955e+03  4.37883768e+04 -7.02595554e+03\n",
            "  5.49331946e+04  2.70520244e+04  5.68092624e+04  8.05947825e+04\n",
            "  4.10328542e+04  6.12373320e+04  1.35904660e+05  2.61160349e+04\n",
            " -1.55103553e+04  7.36842251e+04  2.40741011e+03  8.23291634e+04\n",
            " -1.00879435e+04  1.53983185e+04 -4.75056819e+03  4.84941237e+04\n",
            "  1.00922741e+05  4.13849346e+04  8.59386326e+03  4.87317843e+04\n",
            "  4.80907496e+04  1.03035818e+05  3.49302010e+04  1.91367561e+04\n",
            "  1.58321579e+05  3.58292980e+04  6.44560931e+04  3.62643315e+04\n",
            "  5.02545454e+04  6.48143648e+04  1.37954521e+04  5.51275638e+04\n",
            " -1.90634208e+04 -1.84673773e+03  1.60935273e+05 -1.24702828e+04\n",
            "  5.28129723e+04  3.81683272e+04  1.25397605e+05  6.89275305e+04\n",
            "  1.42244159e+04  7.32930481e+04  4.69179917e+04  4.18364596e+04\n",
            "  3.04922570e+04  8.80194451e+04  5.49369629e+04 -5.76226818e+03\n",
            "  5.55871643e+04 -2.43367696e+04  3.10856029e+04  2.71612192e+04\n",
            "  7.70493194e+04  4.78160252e+04  1.91330249e+04  7.76825790e+04\n",
            " -1.05118693e+04  5.86887066e+04 -2.29824846e+04  1.38485177e+04\n",
            "  6.75494267e+04  2.32879400e+04 -2.21687499e+03  8.43668250e+04\n",
            "  4.02957965e+04 -2.22459320e+03  8.99220659e+03  1.35695468e+04\n",
            "  3.40030881e+04  8.21723926e+04  7.69284107e+04  7.53306248e+04\n",
            "  2.54778109e+04 -2.73380683e+04 -9.19162956e+03 -2.12615916e+03\n",
            "  1.26548311e+05  4.25769676e+04  6.00505559e+04  5.69292978e+03\n",
            "  9.60455524e+03  6.54136222e+04 -1.74994993e+04  7.14243254e+03\n",
            "  1.04851034e+04  5.23126146e+04  2.68082150e+04 -7.09359213e+03\n",
            "  2.16541873e+05  5.31556109e+03  5.50912531e+04  1.04731430e+05\n",
            "  2.32230636e+04 -1.11713682e+04  6.09532238e+04  3.80294013e+03\n",
            "  2.92076667e+04 -8.54724373e+03  3.77899500e+04  1.39128679e+05\n",
            "  4.56143815e+04  1.36536670e+04  1.80782384e+04  3.50052823e+04\n",
            "  1.89886984e+04  1.29927871e+05  2.04960553e+04  1.05253706e+05\n",
            "  7.49499528e+03  2.26145247e+04  1.81539447e+04  5.66559035e+04\n",
            " -1.54429161e+04  7.08166413e+04  1.09562160e+05 -3.25944815e+03\n",
            "  5.57671472e+04  1.90469378e+04  8.97649449e+04  5.74940955e+04\n",
            "  1.28121653e+05  1.60391844e+04  4.96493240e+03  4.00971284e+04\n",
            "  9.86291751e+04  5.78985326e+04  8.37371381e+04  6.44529229e+04\n",
            "  6.68563438e+04 -2.11668993e+04  4.48525065e+04  1.45472700e+03\n",
            "  4.12421109e+04 -4.67539215e+03  6.12601444e+04  5.47735255e+04\n",
            "  2.90865068e+03 -1.88381965e+04  1.68116693e+05  2.94093913e+04\n",
            "  5.79690425e+04  3.67226215e+02  4.77469985e+04  2.40425223e+04\n",
            "  8.43723993e+04  2.03409573e+04  3.91764710e+04 -2.09800926e+04\n",
            "  3.20564444e+04  5.54441547e+04  7.41601421e+04  5.40136998e+04\n",
            "  2.50073545e+04  8.00395073e+04  2.01087807e+04  5.35717064e+03\n",
            "  1.28240307e+05  3.64540246e+03  1.48951337e+03  4.10525856e+04\n",
            "  3.87723060e+04  6.50631616e+04  7.44264188e+04  1.87933268e+04\n",
            "  1.78931066e+04  4.50656054e+04  3.29212754e+04  3.71645655e+04\n",
            " -1.71635281e+04  4.69648321e+04  8.02980653e+03  8.51258697e+04\n",
            "  8.57073749e+03  3.24479520e+04  1.02974153e+05  1.61516843e+04\n",
            "  5.17253395e+04  4.38201120e+04  1.44357456e+05  1.14548767e+04\n",
            "  4.48242849e+04  1.93487188e+04  9.58385766e+04  4.42070884e+04\n",
            "  3.45734426e+04  1.73925450e+05  4.61766016e+04  1.49141135e+04\n",
            "  7.00554838e+04  1.70980718e+04  5.68882237e+04  2.31722333e+04\n",
            "  9.38819496e+04 -3.30054745e+00  3.46435473e+04  3.68821723e+03\n",
            "  1.30016115e+04  9.89170027e+02  2.45695224e+04  3.41984273e+04\n",
            "  5.13124733e+04  2.10493776e+04 -1.79693852e+04 -1.24167304e+04\n",
            "  5.34043011e+04  4.00822716e+04  1.11382186e+05  5.50366188e+04\n",
            "  2.76533015e+04  1.71883409e+04 -5.33731980e+02  6.26861550e+04\n",
            "  3.41912936e+04  1.32864782e+03  1.15000576e+04 -3.96623588e+03\n",
            "  2.38548858e+04  6.83112592e+04  2.48020086e+04  7.28584557e+04\n",
            "  8.31592972e+03  2.15227695e+04  6.10812028e+04  3.06322894e+04\n",
            "  4.00932099e+04  6.89263597e+03  2.30765185e+04  4.18100093e+04\n",
            "  2.83983581e+04  7.78314610e+04 -4.12904850e+03  8.74362576e+04\n",
            "  1.35661730e+04  6.23197044e+04 -2.34543643e+02  2.90138786e+04\n",
            "  5.65390128e+04  3.59937500e+04 -1.24357936e+04  1.03931287e+04\n",
            " -9.43248128e+03  3.01860012e+04  5.78273662e+04  4.29720012e+04\n",
            "  3.14321003e+04  5.24221096e+04  1.15210718e+03  8.10691323e+04\n",
            "  1.36799938e+04  3.42302861e+04  1.26975405e+04  1.15000576e+04\n",
            "  1.87832056e+04  2.02499603e+04  6.01184724e+03 -2.18472717e+04\n",
            "  6.25744642e+04  1.80978258e+04  6.67347056e+04  5.91705404e+04\n",
            " -1.13501558e+04  6.16627118e+04  1.86144195e+04  3.25446766e+04\n",
            "  7.73032061e+03 -7.50393885e+03  3.09898789e+04  1.52728382e+04\n",
            "  3.25931075e+04  3.30462951e+04  2.57389449e+04  2.79090197e+04\n",
            "  6.52907167e+04  9.98312259e+04  1.10151285e+04  4.80418343e+04\n",
            "  7.66068316e+03  4.48793409e+04  1.13190943e+05  1.97096255e+04\n",
            " -2.26965381e+03  8.03625215e+03  2.19370690e+04  2.11163912e+04\n",
            "  5.82272706e+04  2.05949081e+04  4.42596699e+04 -1.03055550e+03\n",
            "  6.20812145e+04  3.37232581e+04  2.00785361e+04  7.49500842e+04\n",
            "  4.10533488e+04  2.64098864e+04  3.56293760e+04  4.46813884e+04\n",
            "  7.69870637e+03  2.89341480e+04  2.61503870e+03  1.17978119e+05\n",
            "  2.35882620e+04  7.38823597e+04  9.41851371e+04  2.55945762e+04\n",
            " -1.92205546e+04  5.60656709e+04  4.35542573e+03  8.23681650e+03\n",
            "  3.05121731e+04  4.02291015e+04  4.72349466e+04 -5.68929624e+03\n",
            "  3.03640792e+04  2.01519842e+04 -5.03348841e+03  3.08577508e+03\n",
            " -2.57708339e+04  8.23961037e+03  6.34228052e+04  1.60633095e+03\n",
            "  1.07053383e+04  1.04425789e+04  4.08293047e+04  2.39535771e+04\n",
            "  1.71419305e+04  6.65246053e+04  3.33197851e+04  2.16136338e+04\n",
            "  8.82342140e+04  8.91175485e+04  2.87770492e+04 -1.87138589e+04\n",
            "  3.31621116e+04  4.33973471e+04  3.56787673e+04  1.00148279e+05\n",
            "  4.19472039e+04  5.05617259e+04 -1.88385043e+04  7.58067038e+03\n",
            " -5.75301679e+03  2.62525410e+04  1.87518957e+05  4.08758082e+04\n",
            "  8.04445186e+03  1.89438691e+04  1.42753458e+05  1.15708176e+05\n",
            "  4.69631519e+04  4.05444967e+04  9.56766367e+04 -6.79347473e+03\n",
            "  1.01687029e+05  5.22799012e+04  6.47054674e+03  9.36574364e+04\n",
            "  2.04196792e+04  1.96041509e+04  4.70448809e+04  1.86855229e+04\n",
            "  8.20713226e+04 -7.87111484e+03  4.21443022e+04  1.18452629e+04\n",
            "  4.28344335e+04 -4.00176717e+03 -5.56123998e+03  8.35050422e+03\n",
            "  8.85170214e+04  5.11774845e+04  8.20010858e+03  1.43378371e+04\n",
            " -8.91423644e+03  1.00114118e+05  9.61986490e+04  7.38299558e+03\n",
            "  1.84033558e+04  8.41273865e+04 -8.47441794e+03  6.59618274e+03\n",
            "  4.60197978e+03  1.39172432e+04  1.44412987e+04  1.26824707e+03\n",
            "  5.81725788e+04  8.69880526e+03  4.01534288e+04 -6.18061291e+03\n",
            "  3.34351121e+04  1.95234887e+04 -1.91342695e+04  5.28003247e+04\n",
            "  2.62742495e+04  3.42827710e+04 -5.76278088e+03  5.41811755e+04\n",
            "  2.69061331e+04  5.94688694e+04  6.27011403e+04  5.66289825e+04\n",
            "  7.50197647e+04  3.20145081e+04  2.98649494e+04 -3.68146462e+03\n",
            " -1.83903912e+04  8.90804617e+03  5.49013150e+04  5.29616405e+04\n",
            "  2.85029273e+03 -2.63672738e+03  7.37971744e+04  6.17513858e+04\n",
            "  3.76434181e+04  2.63446606e+04  4.87598763e+04 -3.12245020e+04\n",
            "  5.49281279e+04 -9.00956374e+03  6.87686167e+04  2.69404307e+04\n",
            "  2.14680684e+04  6.96863253e+04  1.50668483e+04  4.44780600e+03\n",
            "  3.40525853e+04  7.22949828e+03  5.60091124e+04  1.85270332e+03\n",
            " -2.08324445e+04  6.55791223e+04  1.28721943e+04  1.13827953e+05\n",
            " -2.28809464e+04  3.90288178e+04  4.97288255e+04 -8.19842332e+03\n",
            "  9.12241131e+04  1.16507492e+05  3.25740400e+04 -2.54814524e+03\n",
            "  1.38761623e+04  4.35120058e+04 -1.80288048e+04  4.53753643e+04\n",
            "  6.09489753e+04  5.34661953e+04  3.69698038e+03  2.86695478e+04\n",
            "  1.87483435e+04  4.26201864e+03 -3.20194375e+04  3.06668751e+04\n",
            "  4.24883890e+04  2.46648323e+04 -3.04377654e+04  3.65233086e+04\n",
            "  9.23414170e+04  6.46518694e+04  2.45765959e+04  3.12945318e+04\n",
            "  2.41006257e+03 -3.63965142e+04  1.32260680e+05 -1.49300095e+03\n",
            "  6.21179002e+04  3.16927019e+04  5.94145179e+04 -6.78251220e+03\n",
            "  4.25485229e+04  4.18414699e+04 -1.91155516e+04  3.33651214e+04\n",
            "  5.43800832e+04 -1.41893558e+04  2.88545173e+04  2.15265443e+04\n",
            "  7.53194147e+04  1.98859538e+04  2.48656980e+04 -1.90613549e+04\n",
            "  2.28889112e+05  1.31446549e+04  1.92507793e+04  1.48922173e+04\n",
            "  9.70567055e+04  4.24063839e+04 -1.85816657e+04  1.19266349e+05\n",
            "  4.79221456e+04  9.97343165e+04 -1.94975097e+04  1.26994013e+04\n",
            "  6.59100350e+04  4.91194050e+04  5.40711724e+04  6.86827433e+03\n",
            "  1.57567168e+04 -3.38007764e+04  3.94012701e+04  4.36602578e+04\n",
            " -1.64113293e+04 -1.08566450e+04  6.68527375e+03  1.49179507e+04\n",
            "  1.28911663e+04  2.23177016e+04  6.93264495e+04  1.73675615e+03\n",
            "  2.04596626e+04  6.44715348e+04  1.00622383e+05  3.74212712e+04\n",
            "  3.99780800e+04  2.50291282e+02  2.93018291e+04  8.80189513e+04\n",
            "  3.47800462e+04  8.23111501e+04 -1.42969307e+04  9.40357310e+04\n",
            "  2.07553506e+04  1.25012878e+05  3.23016679e+04 -8.86809470e+03\n",
            "  3.88070080e+03  2.89703493e+04  1.73377994e+04  3.60689478e+04\n",
            "  5.63708010e+04  4.36037019e+02  4.46998943e+04  1.70617557e+04\n",
            "  7.52678680e+04  9.02109765e+03  5.10726428e+04 -1.66471622e+04\n",
            "  4.86201820e+04  6.84318412e+04  5.78827704e+03  5.23560589e+04\n",
            "  7.70017962e+04  2.75029819e+04  9.89517450e+04  1.00895799e+05\n",
            "  3.16552370e+04  3.47737442e+04 -2.77338952e+03  7.78632753e+04\n",
            "  2.31950328e+04  2.51802066e+04  4.90008235e+04  6.98318004e+04\n",
            "  3.19800841e+04  1.04909562e+04  2.77706294e+04  2.44596786e+04\n",
            "  3.21167172e+03  2.28080196e+04  5.65424251e+04  1.52803322e+04\n",
            "  6.57779443e+03  4.25985293e+04  2.98284037e+05  2.88539318e+04\n",
            "  6.21985584e+02  1.83047287e+04  3.35437380e+04  2.00308126e+04\n",
            "  2.36561767e+04  9.93373388e+04  6.65348826e+04  6.69201338e+04\n",
            "  5.62114365e+04  5.51570175e+04  4.30572094e+04  5.94761191e+04\n",
            "  6.26769653e+04  3.59895234e+04  1.71163676e+04  7.42015131e+04\n",
            "  1.95132903e+04  1.17437555e+05  1.36997211e+05  5.91559115e+04\n",
            "  6.54530444e+03  2.56899621e+04 -1.58440765e+04  3.46426375e+04\n",
            "  2.78861258e+04  3.97302882e+04  1.83380136e+04  5.66219697e+04\n",
            "  2.63009852e+04  1.50545891e+04  4.22389741e+04  4.38868185e+04\n",
            "  6.09782504e+04  2.16345315e+04  6.87299342e+03  1.74762610e+04\n",
            "  2.64551579e+04  1.28529956e+04  1.45621397e+04  1.53594055e+05\n",
            "  3.24598226e+04  1.62873056e+04  2.20385396e+04 -2.17779107e+04\n",
            "  2.05500508e+04 -3.31713030e+03  1.17661790e+03  1.63575517e+04\n",
            "  1.12312824e+04  2.92982912e+04  3.14770836e+04 -1.76417850e+04\n",
            "  2.36410806e+04  1.54004016e+04  3.65236980e+04  5.89176804e+03\n",
            " -1.53780072e+04  3.63435154e+04  6.90275173e+04  1.22090174e+05\n",
            "  2.68793523e+04  4.82631209e+04  6.96773287e+04  3.96244588e+04\n",
            "  5.35215593e+04  2.53644285e+04 -1.13459863e+04  7.47423067e+04\n",
            "  3.25769254e+04 -2.11306251e+04 -1.25435501e+04  5.29629077e+04\n",
            "  8.17631926e+04  2.60744232e+04  8.28609501e+04  4.79025342e+04\n",
            "  5.66109706e+04  4.10033915e+04  3.55819945e+04 -1.92053015e+04\n",
            "  4.55531136e+04  8.55417881e+04  1.83192224e+04  2.71732551e+04\n",
            "  3.93831216e+04  5.04001458e+04  8.27175328e+04  5.23910888e+04\n",
            "  1.09142424e+05  7.92155194e+04  5.44447473e+04  1.27717629e+04\n",
            "  1.01259626e+05  4.73902615e+04 -6.39778329e+03  4.24092345e+04\n",
            " -3.18159926e+04  8.99426843e+04  6.08897809e+04  6.72293223e+04\n",
            "  2.63152377e+04 -8.68731671e+02  2.84681328e+04  1.81245079e+04\n",
            " -1.35854134e+04  4.82186860e+04  5.27717207e+04  4.62938700e+04\n",
            "  4.75397816e+04  1.08518227e+04  6.23784756e+04 -4.08416013e+03\n",
            "  5.32136088e+04  6.06507111e+04  2.76635844e+04  2.38202876e+03\n",
            "  2.22127646e+04 -1.68656606e+04  1.01373198e+04 -2.20335187e+04\n",
            "  3.06807531e+04  5.75905049e+04  1.42330474e+04  5.05588680e+03\n",
            "  2.20300474e+04 -6.73628265e+03]\n",
            "[ 19445.          16616.77        46482.          37000.\n",
            "  94820.          16437.          45949.87333333  13585.\n",
            " 315700.          11832.5         16047.          10630.\n",
            "  16867.          12445.          22450.          29840.\n",
            " 117430.           9510.46        17051.62        68570.\n",
            "  23155.           7792.          38554.11        16125.\n",
            " 166750.           8509.          13175.          45570.\n",
            "  10225.           9325.           6293.66666667   7710.\n",
            "  10434.66666667  15560.          27555.          30224.98\n",
            "   7650.33333333   7803.          12949.           8633.14\n",
            "  15785.         337100.          18760.           7100.41666667\n",
            "  50240.          11150.          37050.16        91430.\n",
            " 453300.          23863.33333333  10615.          32065.\n",
            "  17500.          16524.          31599.         180850.\n",
            "  32930.          60810.          10710.          13836.\n",
            "  11110.          10957.          92360.          11935.\n",
            "  28430.          17265.          27822.5         37030.\n",
            "  40757.33        19455.          14432.83333333  27290.\n",
            "  51985.           8122.          11150.          33560.\n",
            "  19545.         616180.          15755.          20428.\n",
            "  42395.          11865.          31116.16666667  10957.\n",
            "  15680.          30460.          48224.99        18820.\n",
            "  17749.11        17080.         310000.          48231.66666667\n",
            "  46675.         180250.          14185.          17613.33\n",
            "  11895.           7347.          20690.          13255.\n",
            "  17666.25        10480.          43370.           8475.\n",
            "  12225.          10215.           7419.          13870.\n",
            "   9838.33333333   9223.5         11652.83333333 134850.\n",
            " 244100.          16020.          59200.         202200.\n",
            "  22965.          11507.5         10000.          16521.75\n",
            "   9285.          11601.77       131530.          11185.\n",
            "   9948.          14356.77        15600.         119150.\n",
            "  10545.         161636.          16995.         148875.\n",
            "  25760.          34580.          17212.          26320.\n",
            "  19751.65        19120.          27780.           9147.\n",
            "  13640.           7251.33333333  16545.          27790.\n",
            "   9343.           6016.           9881.          12720.\n",
            "   9335.          48585.          23965.          77530.\n",
            "  47805.          12975.          16341.99        13920.\n",
            "  64631.          16830.          21784.99        13340.\n",
            "  55410.          85280.           5555.          17140.\n",
            "  29770.           5532.          28425.          14650.\n",
            "   5885.         107715.          15285.          31255.\n",
            "  32435.          12870.          25904.97        17585.\n",
            "   6534.          15267.          24261.25         9790.\n",
            "   8280.          10125.          13543.          26631.25\n",
            "  76960.           5205.          25570.          12805.\n",
            "  23980.          10265.          42980.           7768.\n",
            "  13584.34        16355.          68564.          15065.\n",
            "   6095.           6336.          31320.          12093.\n",
            "  70320.          29275.           7645.          49684.16666667\n",
            "  43522.          20975.           8224.           4992.\n",
            "  14980.           5651.          11950.          11105.\n",
            "  26268.83333333  64570.          10670.          16110.\n",
            "   7131.66666667   9310.          17600.          40867.\n",
            "  14119.66666667  24310.44444444  30879.97        36310.\n",
            "  10572.08        49421.           5567.          14670.\n",
            "  17367.          13100.          23275.          21185.\n",
            " 113850.          12405.          18136.25         6148.33333333\n",
            "   5453.          17219.87         6429.          17380.\n",
            "  36560.          13497.           8920.           9075.\n",
            "  30455.          22735.          35345.          12340.\n",
            "  35035.          12579.96        15470.          20705.\n",
            "  33995.          13554.75        18830.          10780.\n",
            "  13365.           6575.9         27525.          12449.\n",
            "  16295.          16325.          30250.          29890.\n",
            "  21050.          19351.         245100.          20628.5\n",
            "  10290.          99975.           7712.          73610.\n",
            "  10201.          16885.          11545.          50900.\n",
            " 144800.          12290.          13440.          18770.\n",
            "  32200.          35120.          22600.          23520.\n",
            " 339600.          28170.          88563.          18945.\n",
            "  12590.          74636.99        14701.          23345.\n",
            "   9838.           6353.         122840.          14835.\n",
            "  51011.66666667  14724.99        67522.          97360.\n",
            "  19615.          47850.          23675.          27470.\n",
            "  11915.          63116.66666667  51525.           8111.33333333\n",
            "  10880.           8700.          13845.          18446.\n",
            "  37410.          27705.          23225.          70830.98\n",
            "   4998.          76820.           8185.          15420.\n",
            "  75610.           9957.5         16325.          37620.\n",
            "  15343.          12700.33333333   6474.          18382.33333333\n",
            "  16424.26       241900.          77765.          30195.\n",
            "   5504.           5394.           6203.33333333  16640.\n",
            " 151580.          27825.         118453.33333333  13225.31\n",
            "  11780.          54314.33333333   8455.5          6534.\n",
            "  12470.          27586.75        24852.           9382.\n",
            " 516300.          10674.          60186.99        47563.\n",
            "   8326.          10319.          43955.           8630.\n",
            "  11650.82142857   6743.66666667  15115.         196820.\n",
            "  16135.          13400.          15600.          16075.\n",
            "  20005.         141980.           8405.          65527.\n",
            "   4861.           8245.          18020.          54726.\n",
            "   7616.          41720.          62730.           7734.41774892\n",
            "  62090.           9515.41666667  32464.          24020.\n",
            "  96430.          18370.           9355.          23354.\n",
            "  49500.          23295.          28170.          79950.\n",
            "  43005.           8950.          10849.66666667   5320.\n",
            "  14844.92         7275.          60205.          41290.\n",
            "  16640.           8092.         173850.          32593.22\n",
            "  24115.          11005.          29950.          20945.\n",
            "  40480.          21628.96619048  13927.           7042.\n",
            "  13605.          20780.          29620.          44070.\n",
            "  21855.          40659.99        17150.          10761.\n",
            "  74380.           6496.          17430.          25170.\n",
            "  14075.          39980.          31864.99        13300.\n",
            "  27611.          14280.          19750.          18420.\n",
            "   9458.          25540.           4837.          38261.66666667\n",
            "  13139.98        18120.5        114710.          14280.\n",
            "  40358.          26735.         131530.          12340.\n",
            "  14680.           5926.          47560.          19515.\n",
            "  13155.         407800.          28429.9047619   14965.\n",
            "  28527.5         14250.          28945.           8701.\n",
            "  72530.          14175.          19915.          13065.\n",
            "  15424.2          4361.          12730.          11755.\n",
            "  56104.28571429  12975.          11047.5          9455.\n",
            "  66235.          23720.         120470.          72137.\n",
            "  10162.5         28554.83333333  11847.          80024.\n",
            "  27474.99         8017.           6180.          12020.\n",
            "  29116.66666667  76670.          20010.         143795.83333333\n",
            "  12750.          18682.8         73520.          15750.82333333\n",
            "  21133.26333333  10845.          10505.          46415.\n",
            "   8415.33333333  71510.          10810.          95440.\n",
            "  18957.33333333  78800.          15995.          22885.\n",
            "  21020.          21483.33333333   8936.           6045.\n",
            "   8558.25        13554.          40400.          10295.\n",
            "  12860.          53993.          11527.5         70320.\n",
            "  14076.25        37310.          11765.           6180.\n",
            "  13325.          13310.          10728.          10947.\n",
            "  60490.          19115.          45490.          38855.\n",
            "   7443.91666667  24030.          21635.          13495.\n",
            "   7117.           6834.          12055.           6612.\n",
            "  12621.          20995.          12803.5         14380.\n",
            " 118207.33333333  69069.          16141.          31000.\n",
            "  11947.5         11035.          61102.           7467.\n",
            "  10748.          14910.          28915.           9355.\n",
            "  44988.35333333  15560.          27545.          17110.\n",
            "  13270.          15055.          11695.          25665.\n",
            "  51432.           6510.          20580.          26995.\n",
            "  10805.          17910.          71325.         235283.33333333\n",
            "  17305.          39545.          91010.          35350.\n",
            "   9995.          46250.          12920.          22419.11\n",
            "   5949.          27290.          16570.           9960.\n",
            "  27286.          15920.          17630.           8842.\n",
            "   8175.          11460.          64780.          12264.30952381\n",
            "  13609.          12663.          24455.          13245.\n",
            "  12560.          71840.          28880.          20625.\n",
            "  45776.66666667  93225.          35649.11        10490.\n",
            "  11772.          24801.77777778  29420.         154775.\n",
            "  15535.          30061.25         8975.          15153.\n",
            "   8595.          11840.         311200.          51720.\n",
            "  11487.5          7475.         199623.33333333 250270.\n",
            "  17349.          14005.          32140.          11896.\n",
            "  75750.          52576.66666667   6170.          23870.\n",
            "  12350.          13420.          27620.           5718.\n",
            " 636300.          10452.          30389.99         6970.\n",
            "  25655.           8252.          11600.          11285.\n",
            " 121930.          39739.99         4983.          12762.35\n",
            "   8887.          95020.         114882.14285714  14155.\n",
            "  19578.33        21910.           9908.           7997.\n",
            "   9045.46        11535.          13508.94         7967.\n",
            "  72295.           8024.          12235.           6449.\n",
            "  14955.          19781.83        10459.          23743.5\n",
            "  18999.           9840.          14628.35        21260.\n",
            "  10175.          46550.          62680.          31615.76\n",
            "  41569.99        14030.          21870.          11813.\n",
            "   7200.           7438.92        61490.          28805.\n",
            "  14475.          10122.         139397.66666667  19790.\n",
            "  12995.           6615.          31360.           6212.5\n",
            "  20015.          10820.          29635.          19744.63285714\n",
            "  32050.          18415.          22450.          15665.\n",
            "  27215.          27248.          16425.           7436.\n",
            "  10670.          39900.          30430.         136150.\n",
            "   7387.          10133.08333333  24280.          10957.\n",
            " 110780.         217746.66666667  12965.          12175.\n",
            "   8465.          29150.          10155.          29180.\n",
            "  41895.          32150.           8682.          16887.\n",
            "  13705.           7984.           7125.           9605.\n",
            "   9002.91666667  11195.           6781.33333333  39350.\n",
            " 142776.66666667  99920.          12945.          15410.\n",
            "  15500.           5125.         129830.          12354.\n",
            "  21420.          26575.          25497.          13910.\n",
            "  51680.          25845.           8185.          20115.75\n",
            "  17300.           8045.          12115.           6720.\n",
            "  51710.          19415.          14635.           8585.\n",
            " 220120.          14225.          16597.5         16575.\n",
            " 117600.          37520.           7859.         209303.33333333\n",
            "  41995.         186763.33333333   8521.          22746.16666667\n",
            "  87002.66666667  42100.          48805.          10428.\n",
            "   9575.           6255.83333333  14068.03        20845.\n",
            "  10460.           5990.          13427.           6838.\n",
            "   4997.          12100.          81420.           8870.\n",
            "  16415.          31606.25       713120.          15460.\n",
            "  12480.          16550.          19865.          23983.76\n",
            "   9607.          64369.33333333  12688.         100750.\n",
            "  11535.         143220.          10989.           8633.25\n",
            "  10416.          12760.          14130.          14577.5\n",
            "  17452.5          7230.          27408.89        18370.\n",
            "  87212.          15745.          17504.01         6888.\n",
            "  18045.          42248.          13660.          44460.\n",
            "  95935.          15341.          92120.          85744.\n",
            "  11350.          11670.          10836.          22715.\n",
            "   5481.25         9977.          58477.         103880.\n",
            "  15609.5          9534.83333333   8268.46        24945.\n",
            "   8544.          12850.          21538.          13240.\n",
            "  14605.          23850.         194800.          37905.\n",
            "  11520.          13613.           8823.          10395.\n",
            "   8540.         161240.          42135.          39459.99\n",
            "  31591.25        41445.          53075.          31634.99\n",
            " 119595.          37640.          28289.83333333  87812.99\n",
            "  17763.         161400.         170280.          28670.\n",
            "  16005.          11310.           7461.          14194.87\n",
            "  16715.           8810.          18315.          16875.\n",
            "   7201.          13702.          12914.99        29920.\n",
            "  48115.          15725.           7817.          10755.\n",
            "  12320.           7860.           7035.         155310.\n",
            "  10055.          11970.          38158.2         11190.\n",
            "  27135.           8770.           7730.          11217.5\n",
            "   5612.          27951.33333333  13130.          12264.89\n",
            "   8320.          21220.          31425.          16480.\n",
            "   8985.          12500.          36620.         263763.33333333\n",
            "  24854.          15605.          18415.          26845.\n",
            "  46055.          11250.          10173.          41290.\n",
            "  11015.           8810.           8663.          15630.\n",
            "  90983.          21965.          46415.          19693.32\n",
            "  27672.5         15095.          33542.32         9003.\n",
            "  20565.          72072.          14260.          12862.5\n",
            "  61735.          16422.          31990.          17795.\n",
            " 157820.          24020.          31990.          12345.\n",
            "  89950.          24820.          11035.          19514.94\n",
            "   9607.         119000.          20345.          79094.\n",
            "  19725.          11266.          10299.03        12990.\n",
            "   7642.          16340.          43445.          16845.\n",
            "  18930.          12963.          18878.          10832.5\n",
            "  24620.          52645.          12135.          18360.\n",
            "  21029.5          9970.          12816.77         9135.\n",
            "  13050.          18436.          18565.          13800.\n",
            "  18550.          11154.        ]\n"
          ]
        }
      ]
    }
  ]
}